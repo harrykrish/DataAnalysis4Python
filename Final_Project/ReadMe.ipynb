{
 "cells": [
  {
   "cell_type": "markdown",
   "metadata": {},
   "source": [
    "# INFO 7374 Data Analysis Using Python - Final Project"
   ]
  },
  {
   "cell_type": "markdown",
   "metadata": {},
   "source": [
    "## Yelp Fusion API Data Analysis"
   ]
  },
  {
   "cell_type": "markdown",
   "metadata": {},
   "source": [
    "<img src=\"yelp.jpg\">"
   ]
  },
  {
   "cell_type": "markdown",
   "metadata": {},
   "source": [
    "Data that has been taken from the **Yelp API** has been analyzed.\n",
    "Two other datasets have been used. \n",
    "Population data for each of the cities has been obtained from **FullContact API** and temperature data for cities in the US has been obtained from **National Centres for Environmental Information**. The websites for the datasets have been listed below.\n"
   ]
  },
  {
   "cell_type": "markdown",
   "metadata": {},
   "source": [
    "*Data Formats*\n",
    "\n",
    "1.Yelp - https://www.yelp.com/developers/documentation/v3 - API Request\n",
    "\n",
    "2.FullContact API - https://www.fullcontact.com/developer/docs/ - API Requests\n",
    "\n",
    "3.Weather data - https://www.ncdc.noaa.gov/ - ZIP Files of temperature data\n"
   ]
  },
  {
   "cell_type": "markdown",
   "metadata": {},
   "source": [
    "Data processing from Yelp API has been done based on three categories\n",
    "1.\tRestaurants\n",
    "2.\tHotels\n",
    "3.\tAttractions\n"
   ]
  },
  {
   "cell_type": "markdown",
   "metadata": {},
   "source": [
    "### Data Collection and Processing"
   ]
  },
  {
   "cell_type": "markdown",
   "metadata": {},
   "source": [
    "**Running the file**\n",
    "\n",
    "Command : **python 'Data Collection and Processing.py' \"City Name\" \"category name\"**\n",
    "\n",
    "Yelp Data categories have been specified above"
   ]
  },
  {
   "cell_type": "markdown",
   "metadata": {},
   "source": [
    "**__Fetching the Data__**\n",
    "\n",
    "* The API requests are placed to the Yelp API based on user search term to get related businesses\n",
    "* The population data for these cities are fetched by placing a request to FullContact API.\n",
    "\n",
    "**Storing the Data**\n",
    "\n",
    "Yelp Data\n",
    "\n",
    " * Click [here](Yelp Data) to view the data downloaded from Yelp\n",
    " * Files are segregated based on country and state.\n",
    " * Files are stored in json format.\n",
    "    \n",
    "Population Data\n",
    " * Click [here](Population Data) to view the data downloaded from FullContact API\n",
    " * Files are segregated based by country.\n",
    " * Files are stored in json format."
   ]
  },
  {
   "cell_type": "markdown",
   "metadata": {},
   "source": [
    "**Post Process of data**\n"
   ]
  },
  {
   "cell_type": "markdown",
   "metadata": {},
   "source": [
    "Yelp Data - Post Processing\n",
    "\n",
    "* Storing the restaurant or hotel category and timings in separate CSV files.\n",
    "\n",
    "Location: [Restaurant Category and Timings](Other Files)"
   ]
  },
  {
   "cell_type": "markdown",
   "metadata": {},
   "source": [
    "Population Data - Post Processing\n",
    "* Joining population data and country abbreviations to form a consolidated data.\n",
    "\n",
    "Location: [Consolidated Population Data](Other Files)"
   ]
  },
  {
   "cell_type": "markdown",
   "metadata": {},
   "source": [
    "**Creating the input file for performing analysis**"
   ]
  },
  {
   "cell_type": "markdown",
   "metadata": {},
   "source": [
    "* The yelp data is merged with the population data (joining operations) based on location to get the final data to be analyzed"
   ]
  },
  {
   "cell_type": "markdown",
   "metadata": {},
   "source": [
    "## Analysis Performed"
   ]
  },
  {
   "cell_type": "markdown",
   "metadata": {},
   "source": [
    "**Running the file**\n",
    "\n",
    "Command : **python Analysis.py**"
   ]
  },
  {
   "cell_type": "markdown",
   "metadata": {},
   "source": [
    "The user is prompted to select what analysis he wants to perform. Based on the analysis selected, the user is prompted for inputs. Once the user enters all inputs, the necessary python file is called."
   ]
  },
  {
   "cell_type": "markdown",
   "metadata": {},
   "source": [
    "## Analysis 1"
   ]
  },
  {
   "cell_type": "markdown",
   "metadata": {},
   "source": [
    "### Places(restaurants,hotels,attractions) per capita value for a city"
   ]
  },
  {
   "cell_type": "markdown",
   "metadata": {},
   "source": [
    "Input parameters prompted:\n",
    "\n",
    "1. City \n",
    "2. Country"
   ]
  },
  {
   "cell_type": "markdown",
   "metadata": {},
   "source": [
    "**Steps:**\n",
    "\n",
    "1. The [Processed Data](Other Files) file containing the Yelp and population data is read.\n",
    "\n",
    "2. The city and country names are passed using argparse to the python file.\n",
    "\n",
    "3. The data is filtered based on city and country value inputs\n",
    "\n",
    "4. The per capita value is calculated for the city is calculated (Number of places/population per 1000)\n",
    "\n",
    "5. The data is stored in the first row of the data frame\n",
    "\n",
    "6. The per capita value for other cities in that country is also calculated for comparison.\n",
    "\n",
    "7. CSV Files and plots are generated for top ten cities"
   ]
  },
  {
   "cell_type": "markdown",
   "metadata": {},
   "source": [
    "## Outputs"
   ]
  },
  {
   "cell_type": "markdown",
   "metadata": {},
   "source": [
    "CSV Files: [Restauarant Per Capita](Output Files/Analysis 1/CSV Files)\n",
    "\n",
    "Plot Files: [Restaurant Per Capita Plot](Output Files/Analysis 1/Plot)"
   ]
  },
  {
   "cell_type": "markdown",
   "metadata": {},
   "source": [
    "<img src=\"Readme- data/Analysis 1.jpg\">"
   ]
  },
  {
   "cell_type": "markdown",
   "metadata": {},
   "source": [
    "## Places per capita plot"
   ]
  },
  {
   "cell_type": "markdown",
   "metadata": {
    "collapsed": true
   },
   "source": [
    "<img src=\"Output Files/Analysis 1/Plot/Restaurant-Per-Capita.jpg\">"
   ]
  },
  {
   "cell_type": "markdown",
   "metadata": {
    "collapsed": true
   },
   "source": [
    "## Analysis 2\n"
   ]
  },
  {
   "cell_type": "markdown",
   "metadata": {},
   "source": [
    "### Restaurants currently open at this time in your city"
   ]
  },
  {
   "cell_type": "markdown",
   "metadata": {},
   "source": [
    "Input parameters prompted:\n",
    "\n",
    "1. City \n",
    "2. Country"
   ]
  },
  {
   "cell_type": "markdown",
   "metadata": {},
   "source": [
    "**Steps:**\n",
    "\n",
    "1. The processed csv file containing the Yelp and population data is read\n",
    "2. The restaurant timing data is used to get the timing of the restaurant\n",
    "3. The time at which the user enters the query is fetched and compared with each of the restaurant timings available [here](Other Files)\n",
    "4. Column splitting is done here to ensure that the hours of operation can be compared.\n",
    "5. The restaurants that are currently open are displayed"
   ]
  },
  {
   "cell_type": "markdown",
   "metadata": {},
   "source": [
    "## Outputs"
   ]
  },
  {
   "cell_type": "markdown",
   "metadata": {
    "collapsed": true
   },
   "source": [
    "CSV Files: [Restaurants Open Now](Output Files/Analysis 2/CSV Files)\n",
    "\n",
    "Plot Files: [Restaurant Open Now - Top 10 based on rating ](Output Files/Analysis 2/Plot)"
   ]
  },
  {
   "cell_type": "markdown",
   "metadata": {},
   "source": [
    "<img src=\"Readme- data/Analysis 2.jpg\">"
   ]
  },
  {
   "cell_type": "markdown",
   "metadata": {},
   "source": [
    "## Restaurants open with rating plot"
   ]
  },
  {
   "cell_type": "markdown",
   "metadata": {},
   "source": [
    "<img src=\"Output Files/Analysis 2/Plot/Restaurants-Open.jpg\">"
   ]
  },
  {
   "cell_type": "markdown",
   "metadata": {},
   "source": [
    "## Analysis 3\n"
   ]
  },
  {
   "cell_type": "markdown",
   "metadata": {},
   "source": [
    "### Top Cuisines"
   ]
  },
  {
   "cell_type": "markdown",
   "metadata": {},
   "source": [
    "Input parameters:\n",
    "    \n",
    "1. Country"
   ]
  },
  {
   "cell_type": "markdown",
   "metadata": {},
   "source": [
    "Steps:\n",
    "\n",
    "1. The processed csv file containing the Yelp and population data is read\n",
    "2. Top categories of restaurants are analyzed from the data available [here](Other Files)"
   ]
  },
  {
   "cell_type": "markdown",
   "metadata": {},
   "source": [
    "## Outputs"
   ]
  },
  {
   "cell_type": "markdown",
   "metadata": {},
   "source": [
    "CSV Files: [Top Cuisines in the Country](Output Files/Analysis 3/CSV Files)\n",
    "\n",
    "Plot Files: [Top 3 Restaurants in each Cuisine](Output Files/Analysis 3/Plot)"
   ]
  },
  {
   "cell_type": "markdown",
   "metadata": {},
   "source": [
    "<img src=\"Readme- data/Analysis 3.jpg\">"
   ]
  },
  {
   "cell_type": "markdown",
   "metadata": {},
   "source": [
    "## Restaurants cuisine distribution"
   ]
  },
  {
   "cell_type": "markdown",
   "metadata": {},
   "source": [
    "<img src=\"Output Files/Analysis 3/Plot/Top-Cuisines.jpg\">"
   ]
  },
  {
   "cell_type": "markdown",
   "metadata": {},
   "source": [
    "## Top 3 Restaurants in each of top cuisines"
   ]
  },
  {
   "cell_type": "markdown",
   "metadata": {},
   "source": [
    "<img src=\"Output Files/Analysis 3/Plot/Top-Cuisines-Restaurants.jpg\">"
   ]
  },
  {
   "cell_type": "markdown",
   "metadata": {},
   "source": [
    "## Analysis 4"
   ]
  },
  {
   "cell_type": "markdown",
   "metadata": {},
   "source": [
    "### Temperature and attractions relations"
   ]
  },
  {
   "cell_type": "markdown",
   "metadata": {},
   "source": [
    "**Steps:**\n",
    "\n",
    "1. The processed csv file containing the Yelp and Temperature is read for US - [Data Source](Other Files)\n",
    "2. The Yelp data is joined with the temperature data.\n",
    "3. For each city the number of attractions and average temperature is calculated\n",
    "4. Temperature data is already preprocessed and obtained as average for each state in US\n",
    "\n",
    "**Weather Data Prepocessing**\n",
    "* Weather data obtained as zip files are extracted and monthly data is aggregated for each state. (Data available only for US)\n",
    "* This data is used as the source to join with the Yelp data\n",
    "\n",
    "**Inference**\n",
    "\n",
    "Scatter plots are drawn to find positive or negative correlation between number of attractions in each place and average temperature of the place\n",
    "\n"
   ]
  },
  {
   "cell_type": "markdown",
   "metadata": {},
   "source": [
    "## Outputs\n"
   ]
  },
  {
   "cell_type": "markdown",
   "metadata": {},
   "source": [
    "CSV Files:  [Relation between number of attractions and temperature](Output Files/Analysis 4/CSV Files)\n",
    "\n",
    "Plot Files: [Relation between number of attractions and temperature](Output Files/Analysis 4/Plot)"
   ]
  },
  {
   "cell_type": "markdown",
   "metadata": {},
   "source": [
    "<img src=\"Readme- data/Analysis 4.jpg\">"
   ]
  },
  {
   "cell_type": "markdown",
   "metadata": {},
   "source": [
    "## Number of attractions in each state Vs temperature"
   ]
  },
  {
   "cell_type": "markdown",
   "metadata": {},
   "source": [
    "<img src=\"Output Files/Analysis 4/Plot/Attractions-Temperature-relation.jpg\">"
   ]
  },
  {
   "cell_type": "markdown",
   "metadata": {},
   "source": [
    "## Analysis 5\n"
   ]
  },
  {
   "cell_type": "markdown",
   "metadata": {},
   "source": [
    "### Rating of place and Review Vs Price Rating"
   ]
  },
  {
   "cell_type": "markdown",
   "metadata": {},
   "source": [
    "Steps:\n",
    "\n",
    "1. The processed csv file containing the Yelp is read\n",
    "2. The relationship between the rating of the place and the price is anaylzed\n",
    "\n",
    "**Inference**\n",
    "* Scatter plots are drawn between the rating of a place and the price rating and review count for a place and price rating\n",
    "\n",
    "* We observe different results for each country"
   ]
  },
  {
   "cell_type": "markdown",
   "metadata": {},
   "source": [
    "## Outputs"
   ]
  },
  {
   "cell_type": "markdown",
   "metadata": {},
   "source": [
    "Plot Files: [Rating of place and review count Vs Price Rating](Output Files/Analysis 5/Plot)"
   ]
  },
  {
   "cell_type": "markdown",
   "metadata": {},
   "source": [
    "## Place Rating Vs Price Rating"
   ]
  },
  {
   "cell_type": "markdown",
   "metadata": {},
   "source": [
    "<img src=\"Output Files/Analysis 5/Plot/Rating of place Vs Place Rating.jpg\">"
   ]
  },
  {
   "cell_type": "markdown",
   "metadata": {},
   "source": [
    "## Review Count Vs Price Rating"
   ]
  },
  {
   "cell_type": "markdown",
   "metadata": {},
   "source": [
    "<img src=\"Output Files/Analysis 5/Plot/Review Count Vs Place Rating.jpg\">"
   ]
  },
  {
   "cell_type": "markdown",
   "metadata": {},
   "source": [
    "## Analysis 6"
   ]
  },
  {
   "cell_type": "markdown",
   "metadata": {},
   "source": [
    "### Country wise distribution of total businesses (Map plot)"
   ]
  },
  {
   "cell_type": "markdown",
   "metadata": {},
   "source": [
    "Input parameters\n",
    "1. Business name to aggregata (eg. hotels)"
   ]
  },
  {
   "cell_type": "markdown",
   "metadata": {},
   "source": [
    "**Steps:**\n",
    "1. We fetch the processed Yelp data from the csv [here](Other Files)\n",
    "2. Based on user input (hotels,attractions,restaurants) we calculate number of businesses per country.\n",
    "2. [countries.geojson](Other Files) file contains the geographic data of the countries.\n",
    "3. The Yelp Data country code is altered since the datasets have different country codes.\n",
    "4. These two files are joined to help us plot a heat map."
   ]
  },
  {
   "cell_type": "markdown",
   "metadata": {},
   "source": [
    "## Output"
   ]
  },
  {
   "cell_type": "markdown",
   "metadata": {},
   "source": [
    "CSV Files: [Country_Aggregated_Category](Output Files/Analysis 6/CSV Files)\n",
    "\n",
    "Plot Files: [Top 3 Restaurants in each Cuisine](Output Files/Analysis 6/Plot)"
   ]
  },
  {
   "cell_type": "markdown",
   "metadata": {},
   "source": [
    "<img src=\"Readme- data/Analysis 6.jpg\">"
   ]
  },
  {
   "cell_type": "markdown",
   "metadata": {},
   "source": [
    "## Country wise heat map of business"
   ]
  },
  {
   "cell_type": "markdown",
   "metadata": {},
   "source": [
    "<img src=\"Output Files/Analysis 6/Plot/country_distribution_category.jpg\">"
   ]
  }
 ],
 "metadata": {
  "kernelspec": {
   "display_name": "Python 3",
   "language": "python",
   "name": "python3"
  },
  "language_info": {
   "codemirror_mode": {
    "name": "ipython",
    "version": 3
   },
   "file_extension": ".py",
   "mimetype": "text/x-python",
   "name": "python",
   "nbconvert_exporter": "python",
   "pygments_lexer": "ipython3",
   "version": "3.5.2"
  }
 },
 "nbformat": 4,
 "nbformat_minor": 0
}
