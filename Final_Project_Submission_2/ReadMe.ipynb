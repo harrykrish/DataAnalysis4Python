{
 "cells": [
  {
   "cell_type": "markdown",
   "metadata": {},
   "source": [
    "# INFO 7374 Data Analysis Using Python - Final Project"
   ]
  },
  {
   "cell_type": "markdown",
   "metadata": {},
   "source": [
    "## Yelp Fusion API Data Analysis"
   ]
  },
  {
   "cell_type": "markdown",
   "metadata": {},
   "source": [
    "<img src=\"yelp.jpg\">"
   ]
  },
  {
   "cell_type": "markdown",
   "metadata": {},
   "source": [
    "Data that has been taken from the Yelp API has been analyzed.\n",
    "Two other datasets have been used. \n",
    "Population data for each of the cities has been obtained from fullcontact api and temperature data for cities in the US has been obtained from National Centres for Environmental Information. The websites for the datasets have been listed below.\n"
   ]
  },
  {
   "cell_type": "markdown",
   "metadata": {},
   "source": [
    "1.Yelp - https://www.yelp.com/developers/documentation/v3 - API Request\n",
    "\n",
    "2.FullContact API - https://www.fullcontact.com/developer/docs/ - API Requests\n",
    "\n",
    "3.Weather data - https://www.ncdc.noaa.gov/ - ZIP Files of temperature data\n"
   ]
  },
  {
   "cell_type": "markdown",
   "metadata": {},
   "source": [
    "Data gathering and processing\n",
    "\n",
    "Data Collection and Processing.py\n",
    "\n",
    "The data gathering for the yelp data is done in this py file.\n",
    "\n",
    "This file takes the City name and category name as inputs.\n",
    "\n",
    "Data processing has been done based on three categories\n",
    "1.\tRestaurants\n",
    "2.\tHotels\n",
    "3.\tAttractions\n"
   ]
  },
  {
   "cell_type": "markdown",
   "metadata": {},
   "source": [
    "Input to run this file: python Data Collection and Processing “City Name” “hotels”\n",
    "\n",
    "Once you run this command, requests are sent to the yelp fusion api to get the data. \n"
   ]
  },
  {
   "cell_type": "markdown",
   "metadata": {},
   "source": [
    "Two requests are sent. The first query is to the search api to get the businesses related to your search string. The second query is to obtain detailed information of each of the businesses returned from the search API.\n",
    "\n",
    "Once the data is fetched, it is stored in the appropriate folder structure as json files(Root folder name: Yelp Data).\n",
    "One of the analysis involves population of the city. The unique id’s of the data are stored and passed as requests to the FullContact API (This API is used to return the population for the city)\n",
    "\n",
    "The population data from the FullContact API is stored in the appropriate folder as json files(Root folder name: Population Data)\n",
    "\n",
    "After obtaining the data from Yelp and FullContact API, the data is written into separate CSV files, namely YelpData.csv and PopulationData.csv.\n",
    "Root Folder for CSV files: ‘Other Files’\n"
   ]
  },
  {
   "cell_type": "markdown",
   "metadata": {},
   "source": [
    "Data processing\n",
    "The data we have stored in the CSV need to be joined so that we can have the Yelp Data and     Population Data together.\n",
    "\n",
    "The data that we fetch from FullContact API for Australia (AU) does not have state abbreviations.\n",
    "‘PopulationData’ is joined with ‘states_australia’ to get the state abbreviations for Australia\n",
    "Yelp data is not merged with the new population data to get the final data for processing.\n",
    "\n",
    "(Note : Joining of data for US and AU have been done on three columns (city,state,country code) and for other countries has been done on two columns (city and country code))\n",
    "\n",
    "The data obtained from Yelp API has some useful information stored as dictionaries. This data is fetched and stored separately .\n",
    "The two files we obtain are RestaurantTiming.csv and RestaurantCategory.csv. (Root folder : ‘Other Files’)\n"
   ]
  },
  {
   "cell_type": "markdown",
   "metadata": {},
   "source": [
    "## Analysis"
   ]
  },
  {
   "cell_type": "markdown",
   "metadata": {},
   "source": [
    "The user has the ability to select which analysis he wants to run.\n",
    "To run the analysis type the following in the command prompt\n",
    "\n",
    "Command : python Analysis.py"
   ]
  },
  {
   "cell_type": "markdown",
   "metadata": {},
   "source": [
    "The user is prompted to select what analysis he wants to perform. Based on the analysis selected, the user is prompted for inputs. Once the user enters all inputs, the necessary python file is called."
   ]
  },
  {
   "cell_type": "markdown",
   "metadata": {},
   "source": [
    "### Analysis 1"
   ]
  },
  {
   "cell_type": "markdown",
   "metadata": {},
   "source": [
    "#### Places(restaurants,hotels,attractions) per capita value for a city"
   ]
  },
  {
   "cell_type": "markdown",
   "metadata": {},
   "source": [
    "Input parameters prompted:\n",
    "\n",
    "1. City \n",
    "2. Country"
   ]
  },
  {
   "cell_type": "markdown",
   "metadata": {},
   "source": [
    "Steps:\n",
    "\n",
    "1. The processed csv file containing the Yelp and population data is read\n",
    "\n",
    "2. The city and country names are passed using argparse command to the python file.\n",
    "\n",
    "3. The data is filtered based on city and country value inputs\n",
    "\n",
    "4. The per capita value is calculated for the city is calculated (Number of places/population)\n",
    "\n",
    "5. The data is stored in the first row of the data frame\n",
    "\n",
    "6. The per capita value for other cities in that country is also calculated for comparison.\n",
    "\n",
    "7. Per capita is plotted for top ten cities"
   ]
  },
  {
   "cell_type": "markdown",
   "metadata": {},
   "source": [
    "# Places per capita plot"
   ]
  },
  {
   "cell_type": "markdown",
   "metadata": {
    "collapsed": true
   },
   "source": [
    "<img src=\"Output Files/Analysis 1/Plot/Restaurant-Per-Capita.jpg\">"
   ]
  },
  {
   "cell_type": "markdown",
   "metadata": {
    "collapsed": true
   },
   "source": [
    "### Analysis 2\n"
   ]
  },
  {
   "cell_type": "markdown",
   "metadata": {},
   "source": [
    "#### Places(restaurants,hotels,attractions) per capita value for a city"
   ]
  },
  {
   "cell_type": "markdown",
   "metadata": {},
   "source": [
    "Input parameters prompted:\n",
    "\n",
    "1. City \n",
    "2. Country"
   ]
  },
  {
   "cell_type": "markdown",
   "metadata": {},
   "source": [
    "Steps:\n",
    "\n",
    "1. The processed csv file containing the Yelp and population data is read\n",
    "2. The restaurant timing data is used to get the timing of the restaurant\n",
    "3. The time at which the user enters the query is fetched and compared with each of the restaurant timings\n",
    "4. Column splitting is done here to ensure that the hours of operation can be compared.\n",
    "5. The restaurants that are currently open are displayed"
   ]
  },
  {
   "cell_type": "markdown",
   "metadata": {},
   "source": [
    "## Outputs"
   ]
  },
  {
   "cell_type": "code",
   "execution_count": null,
   "metadata": {
    "collapsed": true
   },
   "outputs": [],
   "source": []
  },
  {
   "cell_type": "markdown",
   "metadata": {},
   "source": [
    "# Restaurants open with rating plot"
   ]
  },
  {
   "cell_type": "markdown",
   "metadata": {},
   "source": [
    "<img src=\"Output Files/Analysis 2/Plot/Restaurants-Open.jpg\">"
   ]
  },
  {
   "cell_type": "markdown",
   "metadata": {},
   "source": [
    "### Analysis 3\n"
   ]
  },
  {
   "cell_type": "markdown",
   "metadata": {},
   "source": [
    "## Top Cuisines"
   ]
  },
  {
   "cell_type": "markdown",
   "metadata": {},
   "source": [
    "Input parameters prompted:\n",
    "    \n",
    "1. Country"
   ]
  },
  {
   "cell_type": "markdown",
   "metadata": {},
   "source": [
    "Steps:\n",
    "\n",
    "1. The processed csv file containing the Yelp and population data is read\n",
    "2. Top categories of restaurants are analyzed"
   ]
  },
  {
   "cell_type": "markdown",
   "metadata": {},
   "source": [
    "# Restaurants cuisine distribution"
   ]
  },
  {
   "cell_type": "markdown",
   "metadata": {},
   "source": [
    "<img src=\"Output Files/Analysis 3/Plot/Top-Cuisines.jpg\">"
   ]
  },
  {
   "cell_type": "markdown",
   "metadata": {},
   "source": [
    "<img src=\"Output Files/Analysis 3/Plot/Top-Cuisines-Restaurants.jpg\">"
   ]
  },
  {
   "cell_type": "markdown",
   "metadata": {},
   "source": [
    "## Analysis 4"
   ]
  },
  {
   "cell_type": "markdown",
   "metadata": {},
   "source": [
    "## Temperature and attractions relations"
   ]
  },
  {
   "cell_type": "markdown",
   "metadata": {},
   "source": [
    "Steps:\n",
    "\n",
    "1. The processed csv file containing the Yelp and Temperature is read\n",
    "2. The Yelp data is joined with the temperature data\n",
    "3. For each city the number of attractions and temperature is calculated\n",
    "4. Temperature data is already preprocessed and obtained as average for each state in US\n",
    "\n"
   ]
  },
  {
   "cell_type": "markdown",
   "metadata": {},
   "source": [
    "## Plot yet to be generated"
   ]
  },
  {
   "cell_type": "markdown",
   "metadata": {},
   "source": [
    "## Analysis 5\n"
   ]
  },
  {
   "cell_type": "markdown",
   "metadata": {},
   "source": [
    "## Rating of place and Review Vs Price Rating"
   ]
  },
  {
   "cell_type": "markdown",
   "metadata": {},
   "source": [
    "Steps:\n",
    "\n",
    "1. The processed csv file containing the Yelp is read\n",
    "2. The relationship between the rating of the place and the price is anaylzed\n"
   ]
  },
  {
   "cell_type": "markdown",
   "metadata": {},
   "source": [
    "<img src=\"Output Files/Analysis 5/Plot/Rating of place Vs Place Rating.jpg\">"
   ]
  },
  {
   "cell_type": "markdown",
   "metadata": {},
   "source": [
    "<img src=\"Output Files/Analysis 5/Plot/Review Count Vs Place Rating.jpg\">"
   ]
  }
 ],
 "metadata": {
  "kernelspec": {
   "display_name": "Python 3",
   "language": "python",
   "name": "python3"
  },
  "language_info": {
   "codemirror_mode": {
    "name": "ipython",
    "version": 3
   },
   "file_extension": ".py",
   "mimetype": "text/x-python",
   "name": "python",
   "nbconvert_exporter": "python",
   "pygments_lexer": "ipython3",
   "version": "3.5.2"
  }
 },
 "nbformat": 4,
 "nbformat_minor": 0
}
