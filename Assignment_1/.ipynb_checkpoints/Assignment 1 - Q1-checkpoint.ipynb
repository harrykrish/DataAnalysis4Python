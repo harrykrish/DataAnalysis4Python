{
 "cells": [
  {
   "cell_type": "markdown",
   "metadata": {},
   "source": [
    "# Question 1\n",
    "\n",
    "Create a list of numbers which are multiple of 3 and\n",
    "7 between 1 to 500 (5 points)."
   ]
  },
  {
   "cell_type": "code",
   "execution_count": 2,
   "metadata": {
    "collapsed": false
   },
   "outputs": [
    {
     "name": "stdout",
     "output_type": "stream",
     "text": [
      "The multiples of 3 and 7 (21) between 1 and 500 are as follows: \n",
      " [21, 42, 63, 84, 105, 126, 147, 168, 189, 210, 231, 252, 273, 294, 315, 336, 357, 378, 399, 420, 441, 462, 483]\n"
     ]
    }
   ],
   "source": [
    "L=[]\n",
    "for i in range(1,500):\n",
    "    if i%3==0 and i%7==0:\n",
    "        L.append(i)\n",
    "        \n",
    "print(\"The multiples of 3 and 7 (21) between 1 and 500 are as follows: \\n\",L)   "
   ]
  },
  {
   "cell_type": "markdown",
   "metadata": {},
   "source": [
    "# Question 1\n",
    "\n",
    "For the list, find what is the mean. Print what is 25th quartile, 50th quartile and 75th quartile. (10 points)"
   ]
  },
  {
   "cell_type": "code",
   "execution_count": 4,
   "metadata": {
    "collapsed": true
   },
   "outputs": [],
   "source": [
    "# Calculation of mean"
   ]
  },
  {
   "cell_type": "code",
   "execution_count": 5,
   "metadata": {
    "collapsed": false
   },
   "outputs": [
    {
     "name": "stdout",
     "output_type": "stream",
     "text": [
      "The mean of the elements in the list L is 252.0\n"
     ]
    }
   ],
   "source": [
    "summ=0\n",
    "length=0\n",
    "mean=0.0\n",
    "for i in L:\n",
    "    summ=summ+i\n",
    "length=len(L)\n",
    "mean=summ/length\n",
    "print(\"The mean of the elements in the list L is\",mean)"
   ]
  },
  {
   "cell_type": "code",
   "execution_count": 6,
   "metadata": {
    "collapsed": true
   },
   "outputs": [],
   "source": [
    "#Quartile Ranges"
   ]
  },
  {
   "cell_type": "code",
   "execution_count": 7,
   "metadata": {
    "collapsed": true
   },
   "outputs": [],
   "source": [
    "#Defining a function to return percentile \n",
    "import math\n",
    "def percent(datalist, percentilevalue):\n",
    "    size = len(datalist)\n",
    "    return sorted(datalist)[int(math.ceil((size * percentilevalue) / 100)) - 1]"
   ]
  },
  {
   "cell_type": "code",
   "execution_count": 8,
   "metadata": {
    "collapsed": false
   },
   "outputs": [
    {
     "name": "stdout",
     "output_type": "stream",
     "text": [
      "The 25th percentile is 126\n",
      "The 50th percentile is 252\n",
      "The 75th percentile is 378\n"
     ]
    }
   ],
   "source": [
    "#Calculating percentile values by passing the required values to the function (ie.25,50,75)\n",
    "Q25=percent(L,25)\n",
    "Q50=percent(L,50)\n",
    "Q75=percent(L,75)\n",
    "print(\"The 25th percentile is\",Q25)\n",
    "print(\"The 50th percentile is\",Q50)\n",
    "print(\"The 75th percentile is\",Q75)"
   ]
  },
  {
   "cell_type": "code",
   "execution_count": null,
   "metadata": {
    "collapsed": true
   },
   "outputs": [],
   "source": []
  }
 ],
 "metadata": {
  "kernelspec": {
   "display_name": "Python 3",
   "language": "python",
   "name": "python3"
  },
  "language_info": {
   "codemirror_mode": {
    "name": "ipython",
    "version": 3
   },
   "file_extension": ".py",
   "mimetype": "text/x-python",
   "name": "python",
   "nbconvert_exporter": "python",
   "pygments_lexer": "ipython3",
   "version": "3.5.2"
  }
 },
 "nbformat": 4,
 "nbformat_minor": 0
}
