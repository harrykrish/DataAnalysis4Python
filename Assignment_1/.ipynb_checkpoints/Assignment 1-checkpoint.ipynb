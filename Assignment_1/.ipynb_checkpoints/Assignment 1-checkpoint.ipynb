{
 "cells": [
  {
   "cell_type": "markdown",
   "metadata": {},
   "source": [
    "# Question 1\n",
    "\n",
    "Create a list of numbers which are multiple of 3 and\n",
    "7 between 1 to 500 (5 points)."
   ]
  },
  {
   "cell_type": "code",
   "execution_count": 1,
   "metadata": {
    "collapsed": false
   },
   "outputs": [
    {
     "name": "stdout",
     "output_type": "stream",
     "text": [
      "The multiples of 3 and 7 (21) between 1 and 500 are as follows: \n",
      " [21, 42, 63, 84, 105, 126, 147, 168, 189, 210, 231, 252, 273, 294, 315, 336, 357, 378, 399, 420, 441, 462, 483]\n"
     ]
    }
   ],
   "source": [
    "L=[]\n",
    "for i in range(1,500):\n",
    "    if i%3==0 and i%7==0:\n",
    "        L.append(i)\n",
    "        \n",
    "print(\"The multiples of 3 and 7 (21) between 1 and 500 are as follows: \\n\",L)   "
   ]
  },
  {
   "cell_type": "markdown",
   "metadata": {},
   "source": [
    "# Question 1\n",
    "\n",
    "For the list, find what is the mean. Print what is 25th quartile, 50th quartile and 75th quartile. (10 points)"
   ]
  },
  {
   "cell_type": "code",
   "execution_count": 10,
   "metadata": {
    "collapsed": true
   },
   "outputs": [],
   "source": [
    "# Calculation of mean"
   ]
  },
  {
   "cell_type": "code",
   "execution_count": 2,
   "metadata": {
    "collapsed": false
   },
   "outputs": [
    {
     "name": "stdout",
     "output_type": "stream",
     "text": [
      "The mean of the elements in the list L is 252.0\n"
     ]
    }
   ],
   "source": [
    "summ=0\n",
    "length=0\n",
    "mean=0.0\n",
    "for i in L:\n",
    "    summ=summ+i\n",
    "length=len(L)\n",
    "mean=summ/length\n",
    "print(\"The mean of the elements in the list L is\",mean)"
   ]
  },
  {
   "cell_type": "code",
   "execution_count": 12,
   "metadata": {
    "collapsed": false
   },
   "outputs": [],
   "source": [
    "#Quartile Ranges"
   ]
  },
  {
   "cell_type": "code",
   "execution_count": 3,
   "metadata": {
    "collapsed": false
   },
   "outputs": [],
   "source": [
    "#Defining a function to return percentile \n",
    "import math\n",
    "#25th percentile function\n",
    "def percent25(listdata):\n",
    "    sortedlistt=sorted(listdata)\n",
    "    if(len(sortedlistt)%2==1):\n",
    "        return sortedlistt[((len(sortedlistt)+1)//4)-1]\n",
    "    else:\n",
    "        return ((sortedlistt[((len(sortedlistt))//4)-1]+sortedlistt[((len(sortedlist))//4)])/2)\n",
    "\n",
    "#50th percentile function\n",
    "def percent50(listdata):\n",
    "    sortedlistt=sorted(listdata)\n",
    "    if(len(sortedlistt)%2==1):\n",
    "        return sortedlistt[((len(sortedlistt)+1)//2)-1]\n",
    "    else:\n",
    "        return ((sortedlistt[((len(sortedlistt))//2)-1]+sortedlistt[((len(sortedlist))//2)])/2)\n",
    "\n",
    "#7t5h percentile function\n",
    "def percent75(listdata):\n",
    "    sortedlistt=sorted(listdata)\n",
    "    if(len(sortedlistt)%2==1):\n",
    "        return sortedlistt[round((len(sortedlistt)+1)*0.75)-1]\n",
    "    else:\n",
    "        return ((sortedlistt[round((len(sortedlistt))*0.75)-1]+sortedlistt[round((len(sortedlist))*0.75)])/2)"
   ]
  },
  {
   "cell_type": "code",
   "execution_count": 4,
   "metadata": {
    "collapsed": false
   },
   "outputs": [
    {
     "name": "stdout",
     "output_type": "stream",
     "text": [
      "The 25th percentile is 126\n",
      "The 50th percentile is 252\n",
      "The 75th percentile is 378\n"
     ]
    }
   ],
   "source": [
    "#Calculating percentile values by passing the required values to the function (ie.25,50,75)\n",
    "Q25=percent25(L)\n",
    "Q50=percent50(L)\n",
    "Q75=percent75(L)\n",
    "print(\"The 25th percentile is\",Q25)\n",
    "print(\"The 50th percentile is\",Q50)\n",
    "print(\"The 75th percentile is\",Q75)"
   ]
  },
  {
   "cell_type": "markdown",
   "metadata": {},
   "source": [
    "# Question 2\n",
    "Read the file ‘ques2.txt’. Print the number of words. (5 points)"
   ]
  },
  {
   "cell_type": "code",
   "execution_count": 5,
   "metadata": {
    "collapsed": false
   },
   "outputs": [
    {
     "name": "stdout",
     "output_type": "stream",
     "text": [
      "The number of words in the file ques2.txt is 309\n"
     ]
    }
   ],
   "source": [
    "#Reading the file\n",
    "ques2 = open('ques2.txt', 'r')\n",
    "#Placing the words in a list\n",
    "wordslist=ques2.read().split()\n",
    "#Counting the number of words\n",
    "wordcount=len(wordslist)\n",
    "print(\"The number of words in the file ques2.txt is\", wordcount)"
   ]
  },
  {
   "cell_type": "code",
   "execution_count": 6,
   "metadata": {
    "collapsed": false
   },
   "outputs": [
    {
     "name": "stdout",
     "output_type": "stream",
     "text": [
      "The number of unique words in the file ques2.txt is 193\n"
     ]
    }
   ],
   "source": [
    "#Counting number of unique words\n",
    "ques2 = open('ques2.txt', 'r')\n",
    "#Placing the words in a list\n",
    "countunique=0\n",
    "countnotunique=0\n",
    "mylist=[]\n",
    "wordslist=ques2.read().split()\n",
    "for i in wordslist:\n",
    "    if i not in mylist:\n",
    "        mylist.append(i)\n",
    "\n",
    "countunique=len(mylist)\n",
    "print(\"The number of unique words in the file ques2.txt is\",countunique)     \n",
    "    "
   ]
  },
  {
   "cell_type": "markdown",
   "metadata": {},
   "source": [
    "# Question 2\n",
    "Find out what is the average, median and mode for\n",
    "word length (character length) (10 points)."
   ]
  },
  {
   "cell_type": "code",
   "execution_count": 7,
   "metadata": {
    "collapsed": false
   },
   "outputs": [
    {
     "name": "stdout",
     "output_type": "stream",
     "text": [
      "The mean of the elements in the list is 5.624595469255663\n"
     ]
    }
   ],
   "source": [
    "charactercount=[len(i) for i in wordslist]\n",
    "#Mean\n",
    "summation=0\n",
    "length=0\n",
    "mean=0.0\n",
    "for i in charactercount:\n",
    "    summation=summation+i\n",
    "\n",
    "listlength=len(charactercount)\n",
    "meancount=summation/listlength\n",
    "print(\"The mean of the elements in the list is\",meancount)"
   ]
  },
  {
   "cell_type": "code",
   "execution_count": 8,
   "metadata": {
    "collapsed": false
   },
   "outputs": [],
   "source": [
    "#Median function\n",
    "def medianf(listwithvalues):\n",
    "    sortedlist=sorted(listwithvalues)\n",
    "    if(len(sortedlist)%2==1):\n",
    "        return sortedlist[((len(sortedlist)+1)//2)-1]\n",
    "    else:\n",
    "        return ((sortedlist[((len(sortedlist))//2)-1]+sortedlist[((len(sortedlist))//2)])/2)"
   ]
  },
  {
   "cell_type": "code",
   "execution_count": 9,
   "metadata": {
    "collapsed": false
   },
   "outputs": [
    {
     "name": "stdout",
     "output_type": "stream",
     "text": [
      "The median of the list is 5\n"
     ]
    }
   ],
   "source": [
    "#Calculating median\n",
    "print(\"The median of the list is\", medianf(charactercount))"
   ]
  },
  {
   "cell_type": "code",
   "execution_count": 11,
   "metadata": {
    "collapsed": false
   },
   "outputs": [],
   "source": [
    "#Mode\n",
    "occurences={}\n",
    "for i in charactercount:\n",
    "    if i not in occurences.keys():\n",
    "        occurences[i]=1\n",
    "    else:\n",
    "        occurences[i]+=1"
   ]
  },
  {
   "cell_type": "code",
   "execution_count": 12,
   "metadata": {
    "collapsed": false
   },
   "outputs": [
    {
     "name": "stdout",
     "output_type": "stream",
     "text": [
      "The number that occurs maximum number of times is 2 and the number occurs 53 times\n"
     ]
    }
   ],
   "source": [
    "#Mode calculation\n",
    "maxnumber=max(occurences.keys(), key=lambda k: occurences[k])\n",
    "print(\"The number that occurs maximum number of times is\",maxnumber,\"and the number occurs\",occurences[maxnumber],\"times\")"
   ]
  },
  {
   "cell_type": "code",
   "execution_count": 13,
   "metadata": {
    "collapsed": false
   },
   "outputs": [
    {
     "name": "stdout",
     "output_type": "stream",
     "text": [
      "Mean value of word length   : 5.624595469255663\n",
      "Median value of word length : 5\n",
      "Mode value of word length   : 2\n"
     ]
    }
   ],
   "source": [
    "#Mean,median and mode verification\n",
    "import statistics\n",
    "from statistics import mean\n",
    "from statistics import median\n",
    "from statistics import mode\n",
    "meanvalue=mean(charactercount)\n",
    "medianvalue=median(charactercount)\n",
    "modevalue=mode(charactercount)\n",
    "print(\"Mean value of word length   :\",meanvalue)\n",
    "print(\"Median value of word length :\",medianvalue)\n",
    "print(\"Mode value of word length   :\",modevalue)"
   ]
  },
  {
   "cell_type": "markdown",
   "metadata": {},
   "source": [
    "# Question 3\n",
    "There are 1500 json files in ‘Lecture03/question03’. Find out how many of the files contain the string, ‘User not found’ (case insensitive). (15 points)"
   ]
  },
  {
   "cell_type": "code",
   "execution_count": 14,
   "metadata": {
    "collapsed": true
   },
   "outputs": [],
   "source": [
    "#Importing necessary libraries\n",
    "import os\n",
    "import json\n",
    "import pandas as pd\n"
   ]
  },
  {
   "cell_type": "code",
   "execution_count": 15,
   "metadata": {
    "collapsed": false
   },
   "outputs": [],
   "source": [
    "#Reading all file names to a list\n",
    "path_to_json = 'jsons/'\n",
    "json_files = [pos_json for pos_json in os.listdir(path_to_json) if pos_json.endswith('.json')]\n",
    "filedata=[]\n",
    "for js in json_files:\n",
    "    with open(os.path.join(path_to_json, js)) as json_file:\n",
    "        filedata.append(json.load(json_file))\n"
   ]
  },
  {
   "cell_type": "code",
   "execution_count": 16,
   "metadata": {
    "collapsed": false
   },
   "outputs": [
    {
     "name": "stdout",
     "output_type": "stream",
     "text": [
      "The number of files containing the string 'User Not Found' is 877\n"
     ]
    }
   ],
   "source": [
    "#Find out how many of the files contain the string, ‘User not found’ \n",
    "count=0\n",
    "for i in range(len(filedata)):\n",
    "    if(('User Not Found' or 'user not found') in filedata[i].values()):\n",
    "        count=count+1\n",
    "print(\"The number of files containing the string 'User Not Found' is\",count)"
   ]
  },
  {
   "cell_type": "markdown",
   "metadata": {},
   "source": [
    "# Question 3\n",
    "Create a dictionary, containing (user_id,present). present is 0 if ‘user not found’ else 1. Print random 5 entries (20 points)."
   ]
  },
  {
   "cell_type": "code",
   "execution_count": 17,
   "metadata": {
    "collapsed": false
   },
   "outputs": [],
   "source": [
    "#Reading through the list of files and retreiving dxId if user present else retrieving Id from message\n",
    "users={}\n",
    "for i in range(len(filedata)):\n",
    "    if(('User Not Found' or 'user not found') in filedata[i].values()):\n",
    "        users[filedata[i]['message'].replace(\"Unknown user \",\"\")]=0\n",
    "    else:\n",
    "        users[filedata[i]['dxId']]=1"
   ]
  },
  {
   "cell_type": "code",
   "execution_count": 18,
   "metadata": {
    "collapsed": false
   },
   "outputs": [
    {
     "name": "stdout",
     "output_type": "stream",
     "text": [
      "Five random key value pairs from dictionary:\n",
      " rA0KtS0J1AMmTw5 : 1 \n",
      " rpoqhaolyyD7lTxShcyD7NMhFnK2nbDE : 1 \n",
      " g4FsYQX71AZrbj5 : 0 \n",
      " zPnQBGP41BMsi02 : 0 \n",
      " VzPAuS1r1BvPM15 : 0\n"
     ]
    }
   ],
   "source": [
    "#Printing 5 values\n",
    "keyvalues=[]\n",
    "for key in users:\n",
    "    keyvalues.append(key)   \n",
    "print(\"Five random key value pairs from dictionary:\\n\",keyvalues[0],\":\",users[keyvalues[0]],\"\\n\",keyvalues[25],\":\",users[keyvalues[25]],\"\\n\",keyvalues[1000],\":\",users[keyvalues[1000]],\"\\n\",keyvalues[820],\":\",users[keyvalues[820]],\"\\n\",keyvalues[500],\":\",users[keyvalues[500]])"
   ]
  },
  {
   "cell_type": "markdown",
   "metadata": {},
   "source": [
    "# Question 4\n",
    "For the same Json files, there is a field, `segmentUid` which can either start with 0xxxx(lets call them 1st party data) or 1xxxxx (lets call them 3rd party data).\n"
   ]
  },
  {
   "cell_type": "code",
   "execution_count": 20,
   "metadata": {
    "collapsed": false
   },
   "outputs": [],
   "source": [
    "D=[]\n",
    "IdSegmentCounting={}\n",
    "\n",
    "for i in range(len(filedata)):\n",
    "    countt=0\n",
    "    countf=0\n",
    "    segmentCounting={'first':0,'third':0}\n",
    "    \n",
    "    if(('retargetingSegments') in filedata[i].keys()):\n",
    "        D=filedata[i].get('retargetingSegments')\n",
    "        \n",
    "        for j in range(0,len(D)):\n",
    "            sD=D[j]\n",
    "            if sD.get('segmentUid')[0]=='0':\n",
    "                countf=countf+1\n",
    "                segmentCounting.update({'first':countf}) \n",
    "                \n",
    "            elif sD.get('segmentUid')[0]=='1':\n",
    "                countt=countt+1\n",
    "                segmentCounting.update({'third':countt}) \n",
    "        \n",
    "        IdSegmentCounting.update({filedata[i]['dxId']:segmentCounting})\n",
    "    else:\n",
    "        segmentCounting.update({'first':0}) \n",
    "        segmentCounting.update({'third':0})\n",
    "        IdSegmentCounting.update({filedata[i]['message'].replace(\"Unknown user \",\"\"):segmentCounting})\n",
    "          "
   ]
  },
  {
   "cell_type": "code",
   "execution_count": 22,
   "metadata": {
    "collapsed": false
   },
   "outputs": [
    {
     "name": "stdout",
     "output_type": "stream",
     "text": [
      "Printing segmentUid count for six random files:\n",
      " {'third': 1246, 'first': 91} \n",
      " {'third': 2474, 'first': 188} \n",
      " {'third': 0, 'first': 102} \n",
      " {'third': 1775, 'first': 159} \n",
      " {'third': 367, 'first': 85} \n",
      " {'third': 0, 'first': 0}\n"
     ]
    }
   ],
   "source": [
    "print(\"Printing segmentUid count for six random files:\\n\",\n",
    "      IdSegmentCounting['A1Fxs5Ag1A8vuB5'],\"\\n\",\n",
    "      IdSegmentCounting['ABwA5DAx1Az1g65'],\"\\n\",\n",
    "      IdSegmentCounting['QwHk9b6V1AEqMH5'],\"\\n\",\n",
    "      IdSegmentCounting['RLHN1Vk91BbIQk5'],\"\\n\",\n",
    "      IdSegmentCounting['VQZjOCNu1BtJTI5'],\"\\n\",\n",
    "      IdSegmentCounting['A03DUrQz1BM9SQ2'])\n"
   ]
  },
  {
   "cell_type": "code",
   "execution_count": null,
   "metadata": {
    "collapsed": false
   },
   "outputs": [],
   "source": []
  }
 ],
 "metadata": {
  "kernelspec": {
   "display_name": "Python 3",
   "language": "python",
   "name": "python3"
  },
  "language_info": {
   "codemirror_mode": {
    "name": "ipython",
    "version": 3
   },
   "file_extension": ".py",
   "mimetype": "text/x-python",
   "name": "python",
   "nbconvert_exporter": "python",
   "pygments_lexer": "ipython3",
   "version": "3.5.2"
  }
 },
 "nbformat": 4,
 "nbformat_minor": 0
}
