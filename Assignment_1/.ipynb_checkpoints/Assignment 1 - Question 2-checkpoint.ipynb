{
 "cells": [
  {
   "cell_type": "markdown",
   "metadata": {},
   "source": [
    "# Question2\n",
    "Read the file ‘ques2.txt’. Print the number of words. (5 points)"
   ]
  },
  {
   "cell_type": "code",
   "execution_count": 1,
   "metadata": {
    "collapsed": false
   },
   "outputs": [
    {
     "name": "stdout",
     "output_type": "stream",
     "text": [
      "The number of words in the file ques2.txt is 309\n"
     ]
    }
   ],
   "source": [
    "#Reading the file\n",
    "ques2 = open('ques2.txt', 'r')\n",
    "#Placing the words in a list\n",
    "wordslist=ques2.read().split()\n",
    "#Counting the number of words\n",
    "wordcount=len(wordslist)\n",
    "print(\"The number of words in the file ques2.txt is\", wordcount)\n"
   ]
  },
  {
   "cell_type": "code",
   "execution_count": 2,
   "metadata": {
    "collapsed": false
   },
   "outputs": [
    {
     "name": "stdout",
     "output_type": "stream",
     "text": [
      "The number of unique words in the file ques2.txt is 193\n"
     ]
    }
   ],
   "source": [
    "#Counting number of unique words\n",
    "ques2 = open('ques2.txt', 'r')\n",
    "#Placing the words in a list\n",
    "countunique=0\n",
    "countnotunique=0\n",
    "mylist=[]\n",
    "wordslist=ques2.read().split()\n",
    "for i in wordslist:\n",
    "    if i not in mylist:\n",
    "        mylist.append(i)\n",
    "\n",
    "countunique=len(mylist)\n",
    "print(\"The number of unique words in the file ques2.txt is\",countunique)     \n"
   ]
  },
  {
   "cell_type": "markdown",
   "metadata": {},
   "source": [
    "# Question 2 \n",
    "Find out what is the average, median and mode for word length (character length) (10 points).\n",
    "\n"
   ]
  },
  {
   "cell_type": "code",
   "execution_count": 3,
   "metadata": {
    "collapsed": false
   },
   "outputs": [
    {
     "name": "stdout",
     "output_type": "stream",
     "text": [
      "The mean of the elements in the list is 5.624595469255663\n"
     ]
    }
   ],
   "source": [
    "charactercount=[len(i) for i in wordslist]\n",
    "#Mean\n",
    "summation=0\n",
    "length=0\n",
    "mean=0.0\n",
    "for i in charactercount:\n",
    "    summation=summation+i\n",
    "\n",
    "listlength=len(charactercount)\n",
    "meancount=summation/listlength\n",
    "print(\"The mean of the elements in the list is\",meancount)\n"
   ]
  },
  {
   "cell_type": "code",
   "execution_count": 4,
   "metadata": {
    "collapsed": true
   },
   "outputs": [],
   "source": [
    "#Median function\n",
    "def medianf(listwithvalues):\n",
    "    sortedlist=sorted(listwithvalues)\n",
    "    if(len(sortedlist)%2==1):\n",
    "        return sortedlist[((len(sortedlist)+1)//2)-1]\n",
    "    else:\n",
    "        return ((sortedlist[((len(sortedlist))//2)-1]+sortedlist[((len(sortedlist))//2)])/2)\n"
   ]
  },
  {
   "cell_type": "code",
   "execution_count": 5,
   "metadata": {
    "collapsed": false
   },
   "outputs": [
    {
     "name": "stdout",
     "output_type": "stream",
     "text": [
      "The median of the list is 5\n"
     ]
    }
   ],
   "source": [
    "#Calculating median\n",
    "print(\"The median of the list is\", medianf(charactercount))\n"
   ]
  },
  {
   "cell_type": "code",
   "execution_count": 6,
   "metadata": {
    "collapsed": true
   },
   "outputs": [],
   "source": [
    "#Mode\n",
    "occurences={}\n",
    "for i in charactercount:\n",
    "    if i not in occurences.keys():\n",
    "        occurences[i]=1\n",
    "    else:\n",
    "        occurences[i]+=1\n"
   ]
  },
  {
   "cell_type": "code",
   "execution_count": 7,
   "metadata": {
    "collapsed": false
   },
   "outputs": [
    {
     "name": "stdout",
     "output_type": "stream",
     "text": [
      "The number that occurs maximum number of times is 2 and the number occurs 53 times\n"
     ]
    }
   ],
   "source": [
    "#Mode calculation\n",
    "maxnumber=max(occurences.keys(), key=lambda k: occurences[k])\n",
    "print(\"The number that occurs maximum number of times is\",maxnumber,\"and the number occurs\",occurences[maxnumber],\"times\")\n"
   ]
  },
  {
   "cell_type": "code",
   "execution_count": 8,
   "metadata": {
    "collapsed": false
   },
   "outputs": [
    {
     "name": "stdout",
     "output_type": "stream",
     "text": [
      "Mean value of word length   : 5.624595469255663\n",
      "Median value of word length : 5\n",
      "Mode value of word length   : 2\n"
     ]
    }
   ],
   "source": [
    "#Mean,median and mode verification\n",
    "import statistics\n",
    "from statistics import mean\n",
    "from statistics import median\n",
    "from statistics import mode\n",
    "meanvalue=mean(charactercount)\n",
    "medianvalue=median(charactercount)\n",
    "modevalue=mode(charactercount)\n",
    "print(\"Mean value of word length   :\",meanvalue)\n",
    "print(\"Median value of word length :\",medianvalue)\n",
    "print(\"Mode value of word length   :\",modevalue)\n",
    "\n",
    "    "
   ]
  },
  {
   "cell_type": "code",
   "execution_count": null,
   "metadata": {
    "collapsed": true
   },
   "outputs": [],
   "source": []
  }
 ],
 "metadata": {
  "kernelspec": {
   "display_name": "Python 3",
   "language": "python",
   "name": "python3"
  },
  "language_info": {
   "codemirror_mode": {
    "name": "ipython",
    "version": 3
   },
   "file_extension": ".py",
   "mimetype": "text/x-python",
   "name": "python",
   "nbconvert_exporter": "python",
   "pygments_lexer": "ipython3",
   "version": "3.5.2"
  }
 },
 "nbformat": 4,
 "nbformat_minor": 0
}
